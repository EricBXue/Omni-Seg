{
 "cells": [
  {
   "cell_type": "markdown",
   "metadata": {
    "id": "WweZlJJDhAa4"
   },
   "source": [
    "This script is the Omni-Seg pipeline that uses for mapping the results into 1024*1024 local patches.\n",
    "\n",
    "\"V11M25-279\" folder is the input directory which contains 3 example slices. Step_1 script will take the input from \"V11M25-279\" folder and produce output in \"clinical_patches\" folder. Step_2 and Step_3 will take the input produced from the previous step and produce outputs into designed directory. The final mapping results will be stored in \"segementation_merge\" folder as \"merge_pred.png\" and \"other_pred.png\".\n",
    "\n",
    "To run this Colab script, the path in the second cell should be adjusted if needed to change the path to \"OmniSeg_MouthKidney_Pipeline\" folder. Then simply run this Colab script from top to bottom. "
   ]
  },
  {
   "cell_type": "code",
   "execution_count": null,
   "metadata": {
    "id": "yCRSNBp5Wbbh"
   },
   "outputs": [],
   "source": [
    "from google.colab import drive\n",
    "drive.mount('/content/drive')"
   ]
  },
  {
   "cell_type": "code",
   "execution_count": null,
   "metadata": {
    "id": "yLzNUFgVayUg"
   },
   "outputs": [],
   "source": [
    "%cd /content/drive/My Drive/OmniSeg_MouthKidney_Pipeline"
   ]
  },
  {
   "cell_type": "code",
   "execution_count": null,
   "metadata": {
    "id": "3-CxFv8O00kw"
   },
   "outputs": [],
   "source": [
    "!pip uninstall opencv-python\n",
    "! pip install opencv-python==3.4.2.17"
   ]
  },
  {
   "cell_type": "code",
   "execution_count": null,
   "metadata": {
    "id": "T8ZWq1mmzEn0"
   },
   "outputs": [],
   "source": [
    "!sudo ln -sf /usr/local/lib/python3.7/dist-packages/ideep4py/lib/libmkldnn.so.0.14.0 /usr/local/lib/python3.7/dist-packages/ideep4py/lib/libmkldnn.so.0\n",
    "!pip uninstall imgaug\n",
    "!pip install imgaug\n",
    "\n",
    "!pip install tensorboardX\n",
    "!pip install SimpleITK\n",
    "!pip install xmltodict\n",
    "\n",
    "!sudo apt-get install openslide-tools\n",
    "!sudo apt-get install python-openslide\n",
    "!pip install openslide-python"
   ]
  },
  {
   "cell_type": "code",
   "execution_count": null,
   "metadata": {
    "id": "6Fse5HfbyjCw"
   },
   "outputs": [],
   "source": [
    "!wget https://developer.nvidia.com/compute/cuda/9.0/Prod/local_installers/cuda-repo-ubuntu1604-9-0-local_9.0.176-1_amd64-deb\n",
    "!dpkg -i cuda-repo-ubuntu1604-9-0-local_9.0.176-1_amd64-deb\n",
    "!apt-key add /var/cuda-repo-9-0-local/7fa2af80.pub\n",
    "!apt-get update\n",
    "!apt-get install cuda=9.0.176-1"
   ]
  },
  {
   "cell_type": "code",
   "execution_count": null,
   "metadata": {
    "id": "ZIK059bqM45P"
   },
   "outputs": [],
   "source": [
    "!git clone https://github.com/NVIDIA/apex\n",
    "%cd apex\n",
    "!python3 setup.py install\n",
    "%cd .."
   ]
  },
  {
   "cell_type": "code",
   "execution_count": null,
   "metadata": {
    "id": "K3G_j4FJbeIX"
   },
   "outputs": [],
   "source": [
    "!python 1024_Step1_GridPatch_overlap_padding.py"
   ]
  },
  {
   "cell_type": "code",
   "execution_count": null,
   "metadata": {
    "id": "VNjSRfRJuvuJ"
   },
   "outputs": [],
   "source": [
    "!python 1024_Step1.5_MOTSDataset_2D_Patch_normal_save_csv.py"
   ]
  },
  {
   "cell_type": "code",
   "execution_count": null,
   "metadata": {
    "id": "m_QWvTyBU0Fy"
   },
   "outputs": [],
   "source": [
    "!python Random_Step2_Testing_OmniSeg_label_overlap_64_padding.py --reload_path snapshots_2D/fold1_with_white_Omni-Seg_normalwhole_1201/MOTS_DynConv_fold1_with_white_UNet2D_ns_normalwhole_1106_e89.pth"
   ]
  },
  {
   "cell_type": "code",
   "execution_count": null,
   "metadata": {
    "id": "XmOisdqtVCDO"
   },
   "outputs": [],
   "source": [
    "!python 1024_Step3_mergeSegmentationResults_overlap_majorityVote_padding.py"
   ]
  }
 ],
 "metadata": {
  "accelerator": "GPU",
  "colab": {
   "authorship_tag": "ABX9TyOzHxZup04agfSQOwzO+fDC",
   "collapsed_sections": [],
   "name": "Omni-Seg pipeline.ipynb",
   "provenance": []
  },
  "kernelspec": {
   "display_name": "Python 3",
   "language": "python",
   "name": "python3"
  },
  "language_info": {
   "codemirror_mode": {
    "name": "ipython",
    "version": 3
   },
   "file_extension": ".py",
   "mimetype": "text/x-python",
   "name": "python",
   "nbconvert_exporter": "python",
   "pygments_lexer": "ipython3",
   "version": "3.7.6"
  }
 },
 "nbformat": 4,
 "nbformat_minor": 1
}
